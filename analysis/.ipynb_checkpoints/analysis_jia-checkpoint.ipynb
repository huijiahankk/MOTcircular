{
 "cells": [
  {
   "cell_type": "code",
   "execution_count": 7,
   "metadata": {},
   "outputs": [
    {
     "name": "stdout",
     "output_type": "stream",
     "text": [
      "The accurancy rate in speed '0.2' is 85.00%.\n",
      "The accurancy rate in speed '0.3' is 80.00%.\n",
      "The accurancy rate in speed '0.4' is 75.00%.\n",
      "The accurancy rate in speed '0.5' is 80.00%.\n"
     ]
    }
   ],
   "source": [
    "import pandas as pd\n",
    "\n",
    "# Load the data from the specified file path\n",
    "filename = '/Users/huijiajia/Documents/matlab/MOT/MOTcircular_V1/dataRaw/L_1_16Jan2024_13-56.txt'\n",
    "data = pd.read_csv(filename, delimiter=\"\\t\")\n",
    "\n",
    "# Calculate the percentage of '3' values in the 'orderCorrect' column for each 'speed'\n",
    "percentage_3_values = data.groupby('speed').apply(lambda group: (group['orderCorrect'] == 3).sum() / len(group) * 100)\n",
    "\n",
    "# Print the results\n",
    "for speed, percentage in percentage_3_values.items():\n",
    "    print(f\"The accurancy rate in speed '{speed}' is {percentage:.2f}%.\")\n"
   ]
  },
  {
   "cell_type": "code",
   "execution_count": 2,
   "metadata": {},
   "outputs": [
    {
     "name": "stdout",
     "output_type": "stream",
     "text": [
      "The accuracy rate for 2 target(s) at speed '0.2' is 90.00%.\n",
      "The accuracy rate for 3 target(s) at speed '0.2' is 80.00%.\n",
      "The accuracy rate for 2 target(s) at speed '0.3' is 100.00%.\n",
      "The accuracy rate for 3 target(s) at speed '0.3' is 60.00%.\n",
      "The accuracy rate for 2 target(s) at speed '0.4' is 70.00%.\n",
      "The accuracy rate for 3 target(s) at speed '0.4' is 80.00%.\n",
      "The accuracy rate for 2 target(s) at speed '0.5' is 80.00%.\n",
      "The accuracy rate for 3 target(s) at speed '0.5' is 80.00%.\n"
     ]
    }
   ],
   "source": [
    "import pandas as pd\n",
    "\n",
    "# Load the data from the specified file path\n",
    "file_path = '/Users/huijiajia/Documents/matlab/MOT/MOTcircular_V1/dataRaw/L_1_16Jan2024_13-56.txt'\n",
    "data = pd.read_csv(file_path, delimiter=\"\\t\")\n",
    "\n",
    "# Calculate the percentage of '3' values in the 'orderCorrect' column for each 'speed' and 'numTargets'\n",
    "percentage_3_values_by_speed_and_numTargets = data.groupby(['speed', 'numTargets']).apply(\n",
    "    lambda group: (group['orderCorrect'] == 3).sum() / len(group) * 100\n",
    ")\n",
    "\n",
    "# Print the results\n",
    "for (speed, numTargets), percentage in percentage_3_values_by_speed_and_numTargets.items():\n",
    "    print(f\"The accuracy rate for {numTargets} target(s) at speed '{speed}' is {percentage:.2f}%.\")\n"
   ]
  },
  {
   "cell_type": "code",
   "execution_count": null,
   "metadata": {},
   "outputs": [],
   "source": []
  }
 ],
 "metadata": {
  "kernelspec": {
   "display_name": "Python 3 (ipykernel)",
   "language": "python",
   "name": "python3"
  },
  "language_info": {
   "codemirror_mode": {
    "name": "ipython",
    "version": 3
   },
   "file_extension": ".py",
   "mimetype": "text/x-python",
   "name": "python",
   "nbconvert_exporter": "python",
   "pygments_lexer": "ipython3",
   "version": "3.9.6"
  }
 },
 "nbformat": 4,
 "nbformat_minor": 2
}
